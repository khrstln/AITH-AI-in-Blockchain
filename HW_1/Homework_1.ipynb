{
  "cells": [
    {
      "cell_type": "code",
      "execution_count": 1,
      "id": "af393eeb",
      "metadata": {},
      "outputs": [],
      "source": [
        "from blockchain import (Block,\n",
        "                        Transaction,\n",
        "                        BlockchainPeer,\n",
        "                        BlockchainMainnet,\n",
        "                        )\n",
        "import matplotlib_inline as mpl\n",
        "import matplotlib.pyplot as plt\n",
        "from tqdm.notebook import trange, tqdm\n",
        "import random\n",
        "import logging"
      ]
    },
    {
      "cell_type": "code",
      "execution_count": 2,
      "id": "0141bad4",
      "metadata": {},
      "outputs": [],
      "source": [
        "random.seed(42)"
      ]
    },
    {
      "cell_type": "markdown",
      "id": "7f229407",
      "metadata": {
        "id": "7f229407"
      },
      "source": [
        "### Task 1. Form the following block and calculate its hash."
      ]
    },
    {
      "cell_type": "code",
      "execution_count": 3,
      "id": "70b4244c",
      "metadata": {
        "id": "70b4244c"
      },
      "outputs": [],
      "source": [
        "data = {\n",
        "    'index': 4,\n",
        "    'timestamp': 0,\n",
        "    'previous_hash':'0009e52e043a9f83524d01485dda65fe16b6d0dd4239c1c938834be249a432e3',\n",
        "    'nonce': 0,\n",
        "    'author': 'Satoshi',\n",
        "    'transactions': [\n",
        "        {\n",
        "            'sender_address': 'Alice',\n",
        "            'recipient_address': 'Bob',\n",
        "            'value': 10,\n",
        "            'data': 'Hello Bob!',\n",
        "        },\n",
        "        {\n",
        "            'sender_address': 'Bob',\n",
        "            'recipient_address': 'Alice',\n",
        "            'value': 5,\n",
        "            'data': 'Hello Alice!',\n",
        "        }\n",
        "    ]\n",
        "}"
      ]
    },
    {
      "cell_type": "code",
      "execution_count": 4,
      "id": "e4eda96a",
      "metadata": {},
      "outputs": [],
      "source": [
        "transactions = [Transaction(**tx) for tx in data['transactions']]"
      ]
    },
    {
      "cell_type": "code",
      "execution_count": 5,
      "id": "31e447e3",
      "metadata": {},
      "outputs": [],
      "source": [
        "block = Block(index=data['index'],\n",
        "              transactions=transactions,\n",
        "              author=data['author'],\n",
        "              timestamp=data['timestamp'],\n",
        "              previous_hash=data['previous_hash'],\n",
        "              nonce=data['nonce'])"
      ]
    },
    {
      "cell_type": "code",
      "execution_count": 6,
      "id": "1e215897",
      "metadata": {},
      "outputs": [
        {
          "data": {
            "text/plain": [
              "'e02f8bf9303b7b42b77e313887564761dd4923104a9a4d399161adf945b6f064'"
            ]
          },
          "execution_count": 6,
          "metadata": {},
          "output_type": "execute_result"
        }
      ],
      "source": [
        "block_hash = block.compute_hash()\n",
        "block_hash"
      ]
    },
    {
      "cell_type": "markdown",
      "id": "572b0145",
      "metadata": {
        "id": "572b0145"
      },
      "source": [
        "### Task 2. Run PoW algorithm and find the proof of this block (from task1) with difficulty=3."
      ]
    },
    {
      "cell_type": "code",
      "execution_count": 7,
      "id": "8467fb79",
      "metadata": {},
      "outputs": [],
      "source": [
        "BlockchainPeer.difficulty = 3"
      ]
    },
    {
      "cell_type": "code",
      "execution_count": 8,
      "id": "18f1d67b",
      "metadata": {},
      "outputs": [
        {
          "data": {
            "text/plain": [
              "'0002e55332ede6e065fdc770f1ba8c026dbfa86b076a4369cf3aa49913629e21'"
            ]
          },
          "execution_count": 8,
          "metadata": {},
          "output_type": "execute_result"
        }
      ],
      "source": [
        "BlockchainPeer.proof_of_work(block)"
      ]
    },
    {
      "cell_type": "code",
      "execution_count": 9,
      "id": "3c504208",
      "metadata": {},
      "outputs": [
        {
          "data": {
            "text/plain": [
              "1021"
            ]
          },
          "execution_count": 9,
          "metadata": {},
          "output_type": "execute_result"
        }
      ],
      "source": [
        "block.nonce"
      ]
    },
    {
      "cell_type": "markdown",
      "id": "41fee8b9",
      "metadata": {
        "id": "41fee8b9"
      },
      "source": [
        "### Task 3.  Init a single peer and mine 2 blocks with the same 2 transactions from the task1. Why hashes for these blocks are not the same?"
      ]
    },
    {
      "cell_type": "code",
      "execution_count": 10,
      "id": "2fbc8f8f",
      "metadata": {},
      "outputs": [],
      "source": [
        "peer = BlockchainPeer(peer_name='first_peer')"
      ]
    },
    {
      "cell_type": "code",
      "execution_count": 11,
      "id": "bcbb9716",
      "metadata": {},
      "outputs": [],
      "source": [
        "peer.add_new_transaction(transaction=transactions[0])\n",
        "peer.add_new_transaction(transaction=transactions[1])\n",
        "peer.mine()"
      ]
    },
    {
      "cell_type": "code",
      "execution_count": 12,
      "id": "281b8f36",
      "metadata": {},
      "outputs": [],
      "source": [
        "peer.add_new_transaction(transaction=transactions[0])\n",
        "peer.add_new_transaction(transaction=transactions[1])\n",
        "peer.mine()"
      ]
    },
    {
      "cell_type": "code",
      "execution_count": 13,
      "id": "734acbb3",
      "metadata": {},
      "outputs": [
        {
          "data": {
            "text/plain": [
              "[{'index': 0, 'author': 'Satoshi', 'transactions': '[]', 'timestamp': 0, 'previous_hash': '0', 'nonce': 2529, 'hash': '000d66472480c5116303eaced5338aee2605ed6104d0787ce7cf23b99fb29658'},\n",
              " {'index': 1, 'author': 'first_peer', 'transactions': '[{\"data\": \"Hello Bob!\", \"recipient_address\": \"Bob\", \"sender_address\": \"Alice\", \"tx_hash\": \"e300df2f71abb04af98edee0f591aa91406d205bf7f200280e6982ec72b10a32\", \"value\": 10}, {\"data\": \"Hello Alice!\", \"recipient_address\": \"Alice\", \"sender_address\": \"Bob\", \"tx_hash\": \"27ef2609d6803837823486454e7cb83005bfc8483a1dfdbf6f3651343d00b40c\", \"value\": 5}]', 'timestamp': 1740942974.4771578, 'previous_hash': '000d66472480c5116303eaced5338aee2605ed6104d0787ce7cf23b99fb29658', 'nonce': 2123, 'hash': '0008414bc173c5ea583d9bc82820a6d0720d24c498e3dad5a4129cbab7a7e112'},\n",
              " {'index': 2, 'author': 'first_peer', 'transactions': '[{\"data\": \"Hello Bob!\", \"recipient_address\": \"Bob\", \"sender_address\": \"Alice\", \"tx_hash\": \"e300df2f71abb04af98edee0f591aa91406d205bf7f200280e6982ec72b10a32\", \"value\": 10}, {\"data\": \"Hello Alice!\", \"recipient_address\": \"Alice\", \"sender_address\": \"Bob\", \"tx_hash\": \"27ef2609d6803837823486454e7cb83005bfc8483a1dfdbf6f3651343d00b40c\", \"value\": 5}]', 'timestamp': 1740942974.519115, 'previous_hash': '0008414bc173c5ea583d9bc82820a6d0720d24c498e3dad5a4129cbab7a7e112', 'nonce': 2244, 'hash': '0000b93a23f43030208fae29234a428f3fcf1c4ffedcdeab8caaf70275ce9878'}]"
            ]
          },
          "execution_count": 13,
          "metadata": {},
          "output_type": "execute_result"
        }
      ],
      "source": [
        "peer.chain"
      ]
    },
    {
      "cell_type": "markdown",
      "id": "a0355e5f",
      "metadata": {},
      "source": [
        "Хеши блоков различны, так как блоки имеют разные значения `timestamp`, `previous_hash`, `nonce`"
      ]
    },
    {
      "cell_type": "code",
      "execution_count": 14,
      "id": "e5789046",
      "metadata": {},
      "outputs": [],
      "source": [
        "block_1 = peer.chain[1]\n",
        "block_2 = peer.chain[2]"
      ]
    },
    {
      "cell_type": "code",
      "execution_count": 15,
      "id": "3b70145d",
      "metadata": {},
      "outputs": [
        {
          "name": "stdout",
          "output_type": "stream",
          "text": [
            "Hash of block_1: 00098547a4b0b7d19f7ffaa45f44e06ee17219e4de6cb8e566b7be941d88d00c\n",
            "Hash of block_2: 00092863b9d99018b2ca1d508568c92ffc7c31a40aeb0d45647b3b46312e76b5\n"
          ]
        }
      ],
      "source": [
        "proof1 = BlockchainPeer.proof_of_work(block_1)\n",
        "proof2 = BlockchainPeer.proof_of_work(block_2)\n",
        "\n",
        "print(\"Hash of block_1:\", block_1.compute_hash())\n",
        "print(\"Hash of block_2:\", block_2.compute_hash())"
      ]
    },
    {
      "cell_type": "markdown",
      "id": "9bd4d70a",
      "metadata": {},
      "source": [
        "Хеш блоков с одинаковыми транзакциями различается, так как они имеют различные значения `nonce` и `timestamp`"
      ]
    },
    {
      "cell_type": "markdown",
      "id": "3be612b4",
      "metadata": {
        "id": "3be612b4"
      },
      "source": [
        "### Task 4. Mine 100 blocks (in 1 block should be max 5 transactions) with 5 peers. Plot a distribution of mined blocks by each peer. Explain why the distributions look like this? Now turn on a difficulty bomb and make the same"
      ]
    },
    {
      "cell_type": "code",
      "execution_count": 16,
      "id": "0da687f4",
      "metadata": {},
      "outputs": [],
      "source": [
        "peers = [BlockchainPeer(f'Peer_{i}') for i in range(5)]\n",
        "mainnet = BlockchainMainnet(peers)"
      ]
    },
    {
      "cell_type": "code",
      "execution_count": 17,
      "id": "672a1822",
      "metadata": {},
      "outputs": [],
      "source": [
        "names = (\"Alice\", \"Bob\", \"Charlie\", \"Dave\", \"Eve\")"
      ]
    },
    {
      "cell_type": "code",
      "execution_count": 18,
      "id": "c5e9e2db",
      "metadata": {},
      "outputs": [
        {
          "data": {
            "application/vnd.jupyter.widget-view+json": {
              "model_id": "9e57f20629744260a4031afbe4d1d9ed",
              "version_major": 2,
              "version_minor": 0
            },
            "text/plain": [
              "  0%|          | 0/100 [00:00<?, ?it/s]"
            ]
          },
          "metadata": {},
          "output_type": "display_data"
        }
      ],
      "source": [
        "for _ in trange(100):\n",
        "    num_of_transactions = random.randint(1, 5)\n",
        "    for _ in range(num_of_transactions):\n",
        "        sender_addrress, recipient_address = random.choices(names, k=2)\n",
        "        transaction = Transaction(sender_address=sender_addrress,\n",
        "                                    recipient_address=recipient_address,\n",
        "                                    value=random.randint(1, 10),\n",
        "                                    data=f\"Hello, {recipient_address}!\")\n",
        "        for peer in peers:\n",
        "            peer.add_new_transaction(transaction=transaction)\n",
        "\n",
        "    mainnet.run_mining()"
      ]
    },
    {
      "cell_type": "code",
      "execution_count": 19,
      "id": "36ac2fdc",
      "metadata": {},
      "outputs": [],
      "source": [
        "def count_blocks_per_peer(mainnet: BlockchainMainnet) -> dict:\n",
        "    chain = mainnet.get_chain()['chain']\n",
        "    blocks_per_peer = {}\n",
        "    for block in chain:\n",
        "        blocks_per_peer[block.author] = blocks_per_peer.get(block.author, 0) + 1\n",
        "    return blocks_per_peer"
      ]
    },
    {
      "cell_type": "code",
      "execution_count": 20,
      "id": "2e245d8e",
      "metadata": {},
      "outputs": [
        {
          "data": {
            "text/plain": [
              "{'Satoshi': 1,\n",
              " 'Peer_3': 18,\n",
              " 'Peer_4': 25,\n",
              " 'Peer_1': 20,\n",
              " 'Peer_0': 19,\n",
              " 'Peer_2': 18}"
            ]
          },
          "execution_count": 20,
          "metadata": {},
          "output_type": "execute_result"
        }
      ],
      "source": [
        "blocks_per_peer = count_blocks_per_peer(mainnet)\n",
        "blocks_per_peer"
      ]
    },
    {
      "cell_type": "code",
      "execution_count": 21,
      "id": "f221a37b",
      "metadata": {},
      "outputs": [
        {
          "data": {
            "image/png": "[encoded data removed]",
            "text/plain": [
              "<Figure size 640x480 with 1 Axes>"
            ]
          },
          "metadata": {},
          "output_type": "display_data"
        }
      ],
      "source": [
        "plt.bar(blocks_per_peer.keys(), blocks_per_peer.values())\n",
        "plt.xlabel('Peer Name')\n",
        "plt.ylabel('Number of Blocks Mined')\n",
        "plt.title('Distribution of Mined Blocks')\n",
        "plt.show()"
      ]
    },
    {
      "cell_type": "markdown",
      "id": "07524ab7",
      "metadata": {},
      "source": [
        "Поставим `difficulty_bomb=True` при майнинге"
      ]
    },
    {
      "cell_type": "code",
      "execution_count": 22,
      "id": "0f466004",
      "metadata": {},
      "outputs": [],
      "source": [
        "peers_with_bomb = [BlockchainPeer(f'Peer_with_bomb_{i}') for i in range(5)]\n",
        "mainnet_with_bomb = BlockchainMainnet(peers_with_bomb)"
      ]
    },
    {
      "cell_type": "code",
      "execution_count": 23,
      "id": "a73a095a",
      "metadata": {},
      "outputs": [
        {
          "data": {
            "application/vnd.jupyter.widget-view+json": {
              "model_id": "874723037ae145389333421560b329c1",
              "version_major": 2,
              "version_minor": 0
            },
            "text/plain": [
              "  0%|          | 0/100 [00:00<?, ?it/s]"
            ]
          },
          "metadata": {},
          "output_type": "display_data"
        }
      ],
      "source": [
        "for _ in trange(100):\n",
        "    num_of_transactions = random.randint(1, 5)\n",
        "    for _ in range(num_of_transactions):\n",
        "        sender_addrress, recipient_address = random.choices(names, k=2)\n",
        "        transaction = Transaction(sender_address=sender_addrress,\n",
        "                                  recipient_address=recipient_address,\n",
        "                                  value=random.randint(1, 10),\n",
        "                                  data=f\"Hello, {recipient_address}!\")\n",
        "        for peer in peers_with_bomb:\n",
        "            peer.add_new_transaction(transaction=transaction)\n",
        "\n",
        "    mainnet_with_bomb.run_mining(difficulty_bomb=True)"
      ]
    },
    {
      "cell_type": "code",
      "execution_count": 24,
      "id": "9bdbd86b",
      "metadata": {},
      "outputs": [
        {
          "data": {
            "text/plain": [
              "{'Satoshi': 1,\n",
              " 'Peer_with_bomb_2': 23,\n",
              " 'Peer_with_bomb_4': 21,\n",
              " 'Peer_with_bomb_0': 17,\n",
              " 'Peer_with_bomb_1': 22,\n",
              " 'Peer_with_bomb_3': 17}"
            ]
          },
          "execution_count": 24,
          "metadata": {},
          "output_type": "execute_result"
        }
      ],
      "source": [
        "blocks_per_peer_with_bomb = count_blocks_per_peer(mainnet_with_bomb)\n",
        "blocks_per_peer_with_bomb"
      ]
    },
    {
      "cell_type": "code",
      "execution_count": 37,
      "id": "7ff2efb3",
      "metadata": {},
      "outputs": [
        {
          "data": {
            "image/png": "[encoded data removed]",
            "text/plain": [
              "<Figure size 640x480 with 1 Axes>"
            ]
          },
          "metadata": {},
          "output_type": "display_data"
        }
      ],
      "source": [
        "plt.bar([peer_name.replace(\"_with_bomb\", \"\") for peer_name in list(blocks_per_peer_with_bomb.keys())],\n",
        "        blocks_per_peer_with_bomb.values())\n",
        "plt.xlabel('Peer Name')\n",
        "plt.ylabel('Number of Blocks Mined')\n",
        "plt.title('Distribution of Mined Blocks')\n",
        "plt.show()"
      ]
    },
    {
      "cell_type": "markdown",
      "id": "8a546041",
      "metadata": {},
      "source": [
        "Какого-то очевидного различия между распределениями транзакций по пирам при наличии и отсутствии `difficulty_bomb` не наблюдается."
      ]
    },
    {
      "cell_type": "markdown",
      "id": "e1ef8e6b",
      "metadata": {
        "id": "e1ef8e6b"
      },
      "source": [
        "### Task5. Suppose all blocks have the same timestamp as the genesis block. Mine 5 blocks with transactions from task1 - use the peer name 'Satoshi'. Use the template below to override the updated mine() function with fixed timestamp.\n",
        "\n",
        "### Find the hash of the block after the block from the task2."
      ]
    },
    {
      "cell_type": "code",
      "execution_count": 26,
      "id": "37a3d0ec",
      "metadata": {
        "id": "37a3d0ec"
      },
      "outputs": [],
      "source": [
        "class FixedTimeBlockchainPeer(BlockchainPeer):\n",
        "\n",
        "    def mine(self, difficulty_bomb: bool = False):\n",
        "        \"\"\"\n",
        "        This function serves as an interface to add the pending\n",
        "        transactions to the blockchain by adding them to the block\n",
        "        and figuring out Proof Of Work.\n",
        "        \"\"\"\n",
        "        logging.info(f\"{self.peer_name} | Start mining\")\n",
        "\n",
        "        if not self.unconfirmed_transactions:\n",
        "            logging.info(f\"{self.peer_name} | No transactions to mine\")\n",
        "            return\n",
        "\n",
        "        last_block: Block = self.last_block\n",
        "        new_block = Block(\n",
        "            index=last_block.index + 1,\n",
        "            transactions=self.unconfirmed_transactions,\n",
        "            author=self.peer_name,\n",
        "            timestamp=0, # Fixed timestamp\n",
        "            previous_hash=last_block.hash,\n",
        "            nonce=0,\n",
        "        )\n",
        "        proof = self.proof_of_work(new_block, difficulty_bomb)\n",
        "        logging.info(f\"{self.peer_name} | Found proof {proof}\")\n",
        "        self._add_block(new_block, proof)\n",
        "        self.unconfirmed_transactions = []\n",
        "        self._announce()"
      ]
    },
    {
      "cell_type": "code",
      "execution_count": 27,
      "id": "871c9579",
      "metadata": {
        "id": "871c9579"
      },
      "outputs": [],
      "source": [
        "satoshi_peer = FixedTimeBlockchainPeer('Satoshi')"
      ]
    },
    {
      "cell_type": "code",
      "execution_count": 28,
      "id": "6999165a",
      "metadata": {},
      "outputs": [
        {
          "data": {
            "application/vnd.jupyter.widget-view+json": {
              "model_id": "78c06c5af7fa460883adbe0173405781",
              "version_major": 2,
              "version_minor": 0
            },
            "text/plain": [
              "  0%|          | 0/5 [00:00<?, ?it/s]"
            ]
          },
          "metadata": {},
          "output_type": "display_data"
        }
      ],
      "source": [
        "for _ in trange(5):\n",
        "    satoshi_peer.add_new_transaction(transaction=transactions[0])\n",
        "    satoshi_peer.add_new_transaction(transaction=transactions[1])\n",
        "\n",
        "    satoshi_peer.mine()"
      ]
    },
    {
      "cell_type": "code",
      "execution_count": 29,
      "id": "77fd8025",
      "metadata": {},
      "outputs": [
        {
          "data": {
            "text/plain": [
              "[{'index': 0, 'author': 'Satoshi', 'transactions': '[]', 'timestamp': 0, 'previous_hash': '0', 'nonce': 2529, 'hash': '000d66472480c5116303eaced5338aee2605ed6104d0787ce7cf23b99fb29658'},\n",
              " {'index': 1, 'author': 'Satoshi', 'transactions': '[{\"data\": \"Hello Bob!\", \"recipient_address\": \"Bob\", \"sender_address\": \"Alice\", \"tx_hash\": \"e300df2f71abb04af98edee0f591aa91406d205bf7f200280e6982ec72b10a32\", \"value\": 10}, {\"data\": \"Hello Alice!\", \"recipient_address\": \"Alice\", \"sender_address\": \"Bob\", \"tx_hash\": \"27ef2609d6803837823486454e7cb83005bfc8483a1dfdbf6f3651343d00b40c\", \"value\": 5}]', 'timestamp': 0, 'previous_hash': '000d66472480c5116303eaced5338aee2605ed6104d0787ce7cf23b99fb29658', 'nonce': 9199, 'hash': '0001388e4938037f9c8ef8742d8debbc4200fd9309dbae57e3b081966cbeff65'},\n",
              " {'index': 2, 'author': 'Satoshi', 'transactions': '[{\"data\": \"Hello Bob!\", \"recipient_address\": \"Bob\", \"sender_address\": \"Alice\", \"tx_hash\": \"e300df2f71abb04af98edee0f591aa91406d205bf7f200280e6982ec72b10a32\", \"value\": 10}, {\"data\": \"Hello Alice!\", \"recipient_address\": \"Alice\", \"sender_address\": \"Bob\", \"tx_hash\": \"27ef2609d6803837823486454e7cb83005bfc8483a1dfdbf6f3651343d00b40c\", \"value\": 5}]', 'timestamp': 0, 'previous_hash': '0001388e4938037f9c8ef8742d8debbc4200fd9309dbae57e3b081966cbeff65', 'nonce': 3181, 'hash': '000743756a51234bf1898b90f79f8aa3e9151c1bf7d4b17414af8bccc5283d4e'},\n",
              " {'index': 3, 'author': 'Satoshi', 'transactions': '[{\"data\": \"Hello Bob!\", \"recipient_address\": \"Bob\", \"sender_address\": \"Alice\", \"tx_hash\": \"e300df2f71abb04af98edee0f591aa91406d205bf7f200280e6982ec72b10a32\", \"value\": 10}, {\"data\": \"Hello Alice!\", \"recipient_address\": \"Alice\", \"sender_address\": \"Bob\", \"tx_hash\": \"27ef2609d6803837823486454e7cb83005bfc8483a1dfdbf6f3651343d00b40c\", \"value\": 5}]', 'timestamp': 0, 'previous_hash': '000743756a51234bf1898b90f79f8aa3e9151c1bf7d4b17414af8bccc5283d4e', 'nonce': 2485, 'hash': '0009e52e043a9f83524d01485dda65fe16b6d0dd4239c1c938834be249a432e3'},\n",
              " {'index': 4, 'author': 'Satoshi', 'transactions': '[{\"data\": \"Hello Bob!\", \"recipient_address\": \"Bob\", \"sender_address\": \"Alice\", \"tx_hash\": \"e300df2f71abb04af98edee0f591aa91406d205bf7f200280e6982ec72b10a32\", \"value\": 10}, {\"data\": \"Hello Alice!\", \"recipient_address\": \"Alice\", \"sender_address\": \"Bob\", \"tx_hash\": \"27ef2609d6803837823486454e7cb83005bfc8483a1dfdbf6f3651343d00b40c\", \"value\": 5}]', 'timestamp': 0, 'previous_hash': '0009e52e043a9f83524d01485dda65fe16b6d0dd4239c1c938834be249a432e3', 'nonce': 1021, 'hash': '0002e55332ede6e065fdc770f1ba8c026dbfa86b076a4369cf3aa49913629e21'},\n",
              " {'index': 5, 'author': 'Satoshi', 'transactions': '[{\"data\": \"Hello Bob!\", \"recipient_address\": \"Bob\", \"sender_address\": \"Alice\", \"tx_hash\": \"e300df2f71abb04af98edee0f591aa91406d205bf7f200280e6982ec72b10a32\", \"value\": 10}, {\"data\": \"Hello Alice!\", \"recipient_address\": \"Alice\", \"sender_address\": \"Bob\", \"tx_hash\": \"27ef2609d6803837823486454e7cb83005bfc8483a1dfdbf6f3651343d00b40c\", \"value\": 5}]', 'timestamp': 0, 'previous_hash': '0002e55332ede6e065fdc770f1ba8c026dbfa86b076a4369cf3aa49913629e21', 'nonce': 10980, 'hash': '0000b74269d01b5160e499123ffa0e78e0d24ab0b9145cb06fcb4188cc43bdd9'}]"
            ]
          },
          "execution_count": 29,
          "metadata": {},
          "output_type": "execute_result"
        }
      ],
      "source": [
        "satoshi_peer.chain"
      ]
    },
    {
      "cell_type": "code",
      "execution_count": null,
      "id": "4805c653",
      "metadata": {},
      "outputs": [
        {
          "data": {
            "text/plain": [
              "{'index': 5, 'author': 'Satoshi', 'transactions': '[{\"data\": \"Hello Bob!\", \"recipient_address\": \"Bob\", \"sender_address\": \"Alice\", \"tx_hash\": \"e300df2f71abb04af98edee0f591aa91406d205bf7f200280e6982ec72b10a32\", \"value\": 10}, {\"data\": \"Hello Alice!\", \"recipient_address\": \"Alice\", \"sender_address\": \"Bob\", \"tx_hash\": \"27ef2609d6803837823486454e7cb83005bfc8483a1dfdbf6f3651343d00b40c\", \"value\": 5}]', 'timestamp': 0, 'previous_hash': '0002e55332ede6e065fdc770f1ba8c026dbfa86b076a4369cf3aa49913629e21', 'nonce': 10980, 'hash': '0000b74269d01b5160e499123ffa0e78e0d24ab0b9145cb06fcb4188cc43bdd9'}"
            ]
          },
          "execution_count": 30,
          "metadata": {},
          "output_type": "execute_result"
        }
      ],
      "source": [
        "satoshi_peer.chain[5]"
      ]
    },
    {
      "cell_type": "code",
      "execution_count": 31,
      "id": "5291ba22",
      "metadata": {},
      "outputs": [
        {
          "data": {
            "text/plain": [
              "{'index': 4, 'author': 'Satoshi', 'transactions': '[{\"data\": \"Hello Bob!\", \"recipient_address\": \"Bob\", \"sender_address\": \"Alice\", \"tx_hash\": \"e300df2f71abb04af98edee0f591aa91406d205bf7f200280e6982ec72b10a32\", \"value\": 10}, {\"data\": \"Hello Alice!\", \"recipient_address\": \"Alice\", \"sender_address\": \"Bob\", \"tx_hash\": \"27ef2609d6803837823486454e7cb83005bfc8483a1dfdbf6f3651343d00b40c\", \"value\": 5}]', 'timestamp': 0, 'previous_hash': '0009e52e043a9f83524d01485dda65fe16b6d0dd4239c1c938834be249a432e3', 'nonce': 1021}"
            ]
          },
          "execution_count": 31,
          "metadata": {},
          "output_type": "execute_result"
        }
      ],
      "source": [
        "block"
      ]
    }
  ],
  "metadata": {
    "colab": {
      "provenance": [],
      "toc_visible": true
    },
    "kernelspec": {
      "display_name": "venv",
      "language": "python",
      "name": "python3"
    },
    "language_info": {
      "codemirror_mode": {
        "name": "ipython",
        "version": 3
      },
      "file_extension": ".py",
      "mimetype": "text/x-python",
      "name": "python",
      "nbconvert_exporter": "python",
      "pygments_lexer": "ipython3",
      "version": "3.11.9"
    }
  },
  "nbformat": 4,
  "nbformat_minor": 5
}
